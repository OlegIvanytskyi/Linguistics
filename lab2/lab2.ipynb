{
 "cells": [
  {
   "cell_type": "code",
   "execution_count": 35,
   "metadata": {},
   "outputs": [],
   "source": [
    "import pandas as pd\n",
    "import numpy as np\n",
    "import matplotlib.pyplot as plt\n",
    "from stop_words import get_stop_words\n",
    "stop_words = get_stop_words('russian')"
   ]
  },
  {
   "cell_type": "code",
   "execution_count": 36,
   "metadata": {},
   "outputs": [
    {
     "name": "stderr",
     "output_type": "stream",
     "text": [
      "[nltk_data] Downloading package stopwords to\n",
      "[nltk_data]     C:\\Users\\Oleg\\AppData\\Roaming\\nltk_data...\n",
      "[nltk_data]   Package stopwords is already up-to-date!\n"
     ]
    },
    {
     "data": {
      "text/plain": [
       "True"
      ]
     },
     "execution_count": 36,
     "metadata": {},
     "output_type": "execute_result"
    }
   ],
   "source": [
    "import nltk\n",
    "nltk.download('stopwords')"
   ]
  },
  {
   "cell_type": "code",
   "execution_count": 37,
   "metadata": {},
   "outputs": [],
   "source": [
    "from nltk.corpus import stopwords\n",
    "from pymystem3 import Mystem\n",
    "from string import punctuation"
   ]
  },
  {
   "cell_type": "code",
   "execution_count": 38,
   "metadata": {},
   "outputs": [],
   "source": [
    "import sys\n",
    "np.set_printoptions(threshold=sys.maxsize)\n",
    "#np.set_printoptions(threshold=False)"
   ]
  },
  {
   "cell_type": "code",
   "execution_count": 39,
   "metadata": {},
   "outputs": [],
   "source": [
    "from sklearn.feature_extraction.text import CountVectorizer"
   ]
  },
  {
   "cell_type": "markdown",
   "metadata": {},
   "source": [
    "## Get data"
   ]
  },
  {
   "cell_type": "code",
   "execution_count": 40,
   "metadata": {},
   "outputs": [],
   "source": [
    "data = pd.read_csv('lab2.csv', index_col=0, encoding='utf-8')"
   ]
  },
  {
   "cell_type": "code",
   "execution_count": 41,
   "metadata": {
    "scrolled": true
   },
   "outputs": [
    {
     "data": {
      "text/html": [
       "<div>\n",
       "<style scoped>\n",
       "    .dataframe tbody tr th:only-of-type {\n",
       "        vertical-align: middle;\n",
       "    }\n",
       "\n",
       "    .dataframe tbody tr th {\n",
       "        vertical-align: top;\n",
       "    }\n",
       "\n",
       "    .dataframe thead th {\n",
       "        text-align: right;\n",
       "    }\n",
       "</style>\n",
       "<table border=\"1\" class=\"dataframe\">\n",
       "  <thead>\n",
       "    <tr style=\"text-align: right;\">\n",
       "      <th></th>\n",
       "      <th>channel</th>\n",
       "      <th>text</th>\n",
       "      <th>datetime</th>\n",
       "      <th>label</th>\n",
       "    </tr>\n",
       "  </thead>\n",
       "  <tbody>\n",
       "    <tr>\n",
       "      <th>0</th>\n",
       "      <td>bad kpi</td>\n",
       "      <td>#фмм, 3 курс мені написала студентка з мого фа...</td>\n",
       "      <td>2019-03-20 04:50:58+02:00</td>\n",
       "      <td>-1</td>\n",
       "    </tr>\n",
       "    <tr>\n",
       "      <th>1</th>\n",
       "      <td>good kpi</td>\n",
       "      <td>один из туалетов первого корпуса.\\r\\n\\r\\nпоста...</td>\n",
       "      <td>2019-03-21 15:36:38+02:00</td>\n",
       "      <td>1</td>\n",
       "    </tr>\n",
       "    <tr>\n",
       "      <th>2</th>\n",
       "      <td>bad kpi</td>\n",
       "      <td>#фмм #гребньов\\r\\nще трохи про гребньова\\r\\nна...</td>\n",
       "      <td>2019-03-20 07:44:01+02:00</td>\n",
       "      <td>-1</td>\n",
       "    </tr>\n",
       "    <tr>\n",
       "      <th>3</th>\n",
       "      <td>good kpi</td>\n",
       "      <td>#итс \\r\\n1 курс\\r\\n\\r\\nскорее на хороший кпи, ...</td>\n",
       "      <td>2019-04-09 21:34:19+03:00</td>\n",
       "      <td>1</td>\n",
       "    </tr>\n",
       "    <tr>\n",
       "      <th>4</th>\n",
       "      <td>bad kpi</td>\n",
       "      <td>#фмм, 3 курс\\r\\nпомню тоже было дело! тот же г...</td>\n",
       "      <td>2019-03-20 07:44:20+02:00</td>\n",
       "      <td>-1</td>\n",
       "    </tr>\n",
       "  </tbody>\n",
       "</table>\n",
       "</div>"
      ],
      "text/plain": [
       "    channel                                               text  \\\n",
       "0   bad kpi  #фмм, 3 курс мені написала студентка з мого фа...   \n",
       "1  good kpi  один из туалетов первого корпуса.\\r\\n\\r\\nпоста...   \n",
       "2   bad kpi  #фмм #гребньов\\r\\nще трохи про гребньова\\r\\nна...   \n",
       "3  good kpi  #итс \\r\\n1 курс\\r\\n\\r\\nскорее на хороший кпи, ...   \n",
       "4   bad kpi  #фмм, 3 курс\\r\\nпомню тоже было дело! тот же г...   \n",
       "\n",
       "                    datetime  label  \n",
       "0  2019-03-20 04:50:58+02:00     -1  \n",
       "1  2019-03-21 15:36:38+02:00      1  \n",
       "2  2019-03-20 07:44:01+02:00     -1  \n",
       "3  2019-04-09 21:34:19+03:00      1  \n",
       "4  2019-03-20 07:44:20+02:00     -1  "
      ]
     },
     "execution_count": 41,
     "metadata": {},
     "output_type": "execute_result"
    }
   ],
   "source": [
    "data.index -= 1\n",
    "data.head()"
   ]
  },
  {
   "cell_type": "markdown",
   "metadata": {},
   "source": [
    "## Clean data"
   ]
  },
  {
   "cell_type": "code",
   "execution_count": 42,
   "metadata": {
    "scrolled": true
   },
   "outputs": [],
   "source": [
    "mystem = Mystem() \n",
    "russian_stopwords = stopwords.words(\"russian\")\n",
    "russian_stopwords.append('это')\n",
    "\n",
    "ukrainian_stopwords = ['з', 'й', 'що', 'та', 'із', 'але', 'цей', 'коли', 'як', 'чого', 'хоча', 'нам', 'якось', 'чи',\n",
    "                       'це', 'від', 'їх', 'інших', 'ти', 'він', 'вона', 'воно', 'ми', 'ви', 'вони', 'якого', \n",
    "                       'яких', 'яким', 'є', 'чому', 'чим', 'де', 'десь', 'собі', 'свій']\n",
    "stop_words = russian_stopwords + ukrainian_stopwords"
   ]
  },
  {
   "cell_type": "code",
   "execution_count": 43,
   "metadata": {},
   "outputs": [],
   "source": [
    "def preprocess_text(text):\n",
    "    tokens = mystem.lemmatize(text.lower())\n",
    "    tokens = [token for token in tokens if token not in stop_words\\\n",
    "              and token != \" \" \\\n",
    "              and token.strip() not in punctuation]\n",
    "    \n",
    "    text = \" \".join(tokens)\n",
    "    \n",
    "    return text"
   ]
  },
  {
   "cell_type": "code",
   "execution_count": 44,
   "metadata": {
    "scrolled": true
   },
   "outputs": [
    {
     "data": {
      "text/plain": [
       "'сказать видеть кто-то наступать грабли разочаровывать натравлять'"
      ]
     },
     "execution_count": 44,
     "metadata": {},
     "output_type": "execute_result"
    }
   ],
   "source": [
    "preprocess_text(\"Ну что сказать, я вижу кто-то наступил на грабли, Ты разочаровал меня, ты был натравлен.\")"
   ]
  },
  {
   "cell_type": "code",
   "execution_count": 45,
   "metadata": {},
   "outputs": [
    {
     "data": {
      "text/plain": [
       "'асфальт мимо цемент избегать зевака аплодисменты обитатель спальный аррондисман'"
      ]
     },
     "execution_count": 45,
     "metadata": {},
     "output_type": "execute_result"
    }
   ],
   "source": [
    "preprocess_text(\"По асфальту мимо цемента, Избегая зевак под аплодисменты. Обитатели спальных аррондисманов\")"
   ]
  },
  {
   "cell_type": "code",
   "execution_count": 46,
   "metadata": {},
   "outputs": [],
   "source": [
    "allowed = 'abcdefghijklmnopqrstuvwxyzабвгдеёжзийклмнопрстуфхцчшщъыьэюяабвгґдеєжзиіїйклмнопрстуфхцчшщьюя'"
   ]
  },
  {
   "cell_type": "code",
   "execution_count": 47,
   "metadata": {},
   "outputs": [],
   "source": [
    "text = data['text']"
   ]
  },
  {
   "cell_type": "code",
   "execution_count": 48,
   "metadata": {},
   "outputs": [],
   "source": [
    "def clean_data(data, lemma=False):\n",
    "    S = []\n",
    "    for mes in text:\n",
    "        if lemma:\n",
    "            mes = preprocess_text(mes)\n",
    "        mes = mes.split()\n",
    "        new_mes = ''\n",
    "        for word in mes:\n",
    "            word = word.strip()\n",
    "            new_word = ''\n",
    "            for i in range(len(word)):\n",
    "                if word[i] == '\\\\' or word[i] == '/':\n",
    "                    new_word += ' '\n",
    "                elif word[i] in allowed:\n",
    "                    new_word += word[i]\n",
    "            if (len(new_word)) > 0:\n",
    "                new_mes += new_word.strip() + ' '\n",
    "        S.append(new_mes.strip())\n",
    "    X = pd.Series(S)\n",
    "    return X"
   ]
  },
  {
   "cell_type": "code",
   "execution_count": 49,
   "metadata": {
    "scrolled": true
   },
   "outputs": [
    {
     "data": {
      "text/plain": [
       "0    фмм курс мені написала студентка з мого факуль...\n",
       "1    один из туалетов первого корпуса поставили руч...\n",
       "2    фмм гребньов ще трохи про гребньова на своїх п...\n",
       "3    итс курс скорее на хороший кпи чем на плохой п...\n",
       "4    фмм курс помню тоже было дело тот же гребнев з...\n",
       "dtype: object"
      ]
     },
     "execution_count": 49,
     "metadata": {},
     "output_type": "execute_result"
    }
   ],
   "source": [
    "X = clean_data(text)\n",
    "X.head()"
   ]
  },
  {
   "cell_type": "code",
   "execution_count": 50,
   "metadata": {},
   "outputs": [
    {
     "data": {
      "text/plain": [
       "0    фмм курс мені написать студентка мого факульте...\n",
       "1    туалет первый корпус поставлять ручка щеколда ...\n",
       "2    фмм гребньов ще троха гребньово своїх пары про...\n",
       "3    итс курс скоро хороший кпи плохой преподавател...\n",
       "4    фмм курс помнить дело гребнев заставлять делат...\n",
       "dtype: object"
      ]
     },
     "execution_count": 50,
     "metadata": {},
     "output_type": "execute_result"
    }
   ],
   "source": [
    "X_lemma = clean_data(text, True)\n",
    "X_lemma.head()"
   ]
  },
  {
   "cell_type": "code",
   "execution_count": 51,
   "metadata": {},
   "outputs": [],
   "source": [
    "y = data['label']"
   ]
  },
  {
   "cell_type": "markdown",
   "metadata": {},
   "source": [
    "## Split data"
   ]
  },
  {
   "cell_type": "code",
   "execution_count": 52,
   "metadata": {
    "scrolled": true
   },
   "outputs": [
    {
     "name": "stdout",
     "output_type": "stream",
     "text": [
      "100\n",
      "120\n",
      "140\n",
      "60\n"
     ]
    }
   ],
   "source": [
    "X1_train, y1_train = X[:100], y[:100]\n",
    "X2_train, y2_train = X[:120], y[:120]\n",
    "X3_train, y3_train = X[:140], y[:140]\n",
    "X_test, y_test = X[140:], y[140:]\n",
    "\n",
    "print(len(X1_train))\n",
    "print(len(X2_train))\n",
    "print(len(X3_train))\n",
    "print(len(X_test))"
   ]
  },
  {
   "cell_type": "code",
   "execution_count": 53,
   "metadata": {},
   "outputs": [
    {
     "name": "stdout",
     "output_type": "stream",
     "text": [
      "100\n",
      "120\n",
      "140\n",
      "60\n"
     ]
    }
   ],
   "source": [
    "X1_train_lemma = X_lemma[:100]\n",
    "X2_train_lemma = X_lemma[:120]\n",
    "X3_train_lemma = X_lemma[:140]\n",
    "X_test_lemma = X_lemma[140:]\n",
    "\n",
    "print(len(X1_train_lemma))\n",
    "print(len(X2_train_lemma))\n",
    "print(len(X3_train_lemma))\n",
    "print(len(X_test_lemma))"
   ]
  },
  {
   "cell_type": "markdown",
   "metadata": {},
   "source": [
    "## Help functions"
   ]
  },
  {
   "cell_type": "code",
   "execution_count": 54,
   "metadata": {},
   "outputs": [],
   "source": [
    "def plot_hist(df, labels, cv, c, num=10):\n",
    "    import random\n",
    "    df = df[labels[labels == c].index]\n",
    "    ind = np.argpartition(df.toarray().sum(axis=0), -num)[-num:]\n",
    "    values = df.toarray().sum(axis=0)[ind]\n",
    "    words = np.array(cv.get_feature_names())[ind]\n",
    "    \n",
    "    n = len(ind)\n",
    "    all_colors = list(plt.cm.colors.cnames.keys())\n",
    "    random.seed(100)\n",
    "    c = random.choices(all_colors, k=n)\n",
    "\n",
    "    # Plot Bars\n",
    "    plt.figure(figsize=(16,10), dpi= 80)\n",
    "    plt.bar(words, values, color=c, width=.5)\n",
    "    for i in range(len(ind)):\n",
    "        plt.text(i, values[i], words[i], horizontalalignment='center', verticalalignment='bottom', fontdict={'fontweight':500, 'size':12})\n",
    "\n",
    "    # Decoration\n",
    "    plt.gca().set_xticklabels(values, rotation=90, horizontalalignment= 'right')\n",
    "    plt.title('Most popular words', fontsize=22)\n",
    "    plt.ylabel('Frequency')\n",
    "    #plt.ylim(0, 0.5)\n",
    "    plt.show()"
   ]
  },
  {
   "cell_type": "code",
   "execution_count": 55,
   "metadata": {},
   "outputs": [],
   "source": [
    "def num_doc_c(labels, c):\n",
    "    return labels[labels == c].count()  "
   ]
  },
  {
   "cell_type": "code",
   "execution_count": 56,
   "metadata": {},
   "outputs": [],
   "source": [
    "def num_unique_words(cv):\n",
    "    return len(cv.get_feature_names())"
   ]
  },
  {
   "cell_type": "code",
   "execution_count": 57,
   "metadata": {},
   "outputs": [],
   "source": [
    "def num_words_c(data, labels, c):\n",
    "    return data[labels[labels == c].index].sum()"
   ]
  },
  {
   "cell_type": "code",
   "execution_count": 58,
   "metadata": {},
   "outputs": [],
   "source": [
    "def num_word_c(cv, word, data, labels, c):\n",
    "    if word not in cv.get_feature_names():\n",
    "        return 0\n",
    "    index = cv.get_feature_names().index(word)\n",
    "    data = data.transpose()[index].transpose()\n",
    "    return data[labels[labels == c].index].sum()"
   ]
  },
  {
   "cell_type": "markdown",
   "metadata": {},
   "source": [
    "## Building a model"
   ]
  },
  {
   "cell_type": "code",
   "execution_count": 59,
   "metadata": {},
   "outputs": [],
   "source": [
    "def transform(data, use_stop_words=False):\n",
    "    sw = stop_words if use_stop_words else None\n",
    "    cv = CountVectorizer(stop_words=sw)\n",
    "    data = cv.fit_transform(data)\n",
    "    return data, cv"
   ]
  },
  {
   "cell_type": "code",
   "execution_count": 60,
   "metadata": {},
   "outputs": [],
   "source": [
    "def proba(cv, mes, data, labels):\n",
    "    predictions = []\n",
    "    mes_num = cv.transform(mes)\n",
    "    for i in range(mes.shape[0]):\n",
    "        prob = []\n",
    "        for c in labels.unique():\n",
    "            total = np.log(num_doc_c(labels, c) / labels.shape[0])\n",
    "            for word in mes.iat[i].split():\n",
    "                total += np.log((num_word_c(cv, word, data, labels, c) + 1) / \n",
    "                                (num_unique_words(cv) + num_words_c(data, labels, c)))\n",
    "            prob.append(total)\n",
    "        #print(prob)\n",
    "        predictions.append(labels.unique()[prob.index(max(prob))])\n",
    "    return pd.Series(predictions)"
   ]
  },
  {
   "cell_type": "code",
   "execution_count": 61,
   "metadata": {},
   "outputs": [],
   "source": [
    "def predict(data, labels, data_predict, use_stop_words=False):\n",
    "    data, cv = transform(data, use_stop_words)\n",
    "    return proba(cv, data_predict, data, labels), data, cv"
   ]
  },
  {
   "cell_type": "code",
   "execution_count": 105,
   "metadata": {},
   "outputs": [],
   "source": [
    "def accuracy(y_true, y_pred):\n",
    "    y_true = y_true.reset_index(drop=True)\n",
    "    return sum(y_true.sort_index() == y_pred) / len(y_true)"
   ]
  },
  {
   "cell_type": "code",
   "execution_count": 63,
   "metadata": {
    "scrolled": true
   },
   "outputs": [],
   "source": [
    "a = pd.Series(['надаю послуги бухгалтера бухгалтера', 'поспішайте купити віагру', 'потрібно купити молока', \n",
    "               'потрібно купити цигарки', 'вам треба купити віагру', 'лол'])\n",
    "b = pd.Series([-1, -1, 1, 1, -1, -1])\n",
    "#a_train, a_test, b_train, b_test = a[:3], a[3:], b[:3], b[3:]\n",
    "#accuracy(b_test, predict(a_train, b_train, a_test))"
   ]
  },
  {
   "cell_type": "markdown",
   "metadata": {},
   "source": [
    "## Training a model"
   ]
  },
  {
   "cell_type": "code",
   "execution_count": 106,
   "metadata": {},
   "outputs": [],
   "source": [
    "accus = []\n",
    "accus_new = []"
   ]
  },
  {
   "cell_type": "code",
   "execution_count": 65,
   "metadata": {},
   "outputs": [],
   "source": [
    "y_new = y.copy()\n",
    "y_new[y_new == 0] = 1"
   ]
  },
  {
   "cell_type": "code",
   "execution_count": 66,
   "metadata": {},
   "outputs": [],
   "source": [
    "y1_train_new = y_new[:100]\n",
    "y2_train_new = y_new[:120]\n",
    "y3_train_new = y_new[:140]\n",
    "y_test_new = y_new[140:]"
   ]
  },
  {
   "cell_type": "markdown",
   "metadata": {},
   "source": [
    "### X1, y1; 3 classes; no lemmatization"
   ]
  },
  {
   "cell_type": "code",
   "execution_count": 67,
   "metadata": {},
   "outputs": [
    {
     "name": "stdout",
     "output_type": "stream",
     "text": [
      "Wall time: 1min 45s\n"
     ]
    }
   ],
   "source": [
    "%%time\n",
    "predicted_1, _, _ = predict(X1_train, y1_train, X_test)"
   ]
  },
  {
   "cell_type": "code",
   "execution_count": 107,
   "metadata": {},
   "outputs": [
    {
     "name": "stdout",
     "output_type": "stream",
     "text": [
      "0.4\n"
     ]
    }
   ],
   "source": [
    "acc_1 = accuracy(y_test, predicted_1)\n",
    "accus.append(round(acc_1, 2))\n",
    "print(acc_1)"
   ]
  },
  {
   "cell_type": "markdown",
   "metadata": {},
   "source": [
    "### X1, y1; 2 classes; no lemmatization"
   ]
  },
  {
   "cell_type": "code",
   "execution_count": 69,
   "metadata": {},
   "outputs": [
    {
     "name": "stdout",
     "output_type": "stream",
     "text": [
      "Wall time: 1min 14s\n"
     ]
    }
   ],
   "source": [
    "%%time\n",
    "predicted_1_new, _, _ = predict(X1_train, y1_train_new, X_test)"
   ]
  },
  {
   "cell_type": "code",
   "execution_count": 108,
   "metadata": {},
   "outputs": [
    {
     "name": "stdout",
     "output_type": "stream",
     "text": [
      "0.6\n"
     ]
    }
   ],
   "source": [
    "acc_1_new = accuracy(y_test_new, predicted_1_new)\n",
    "accus_new.append(round(acc_1_new, 2))\n",
    "print(acc_1_new)"
   ]
  },
  {
   "cell_type": "markdown",
   "metadata": {},
   "source": [
    "### X1, y1; 3 classes; with lemmatization"
   ]
  },
  {
   "cell_type": "code",
   "execution_count": 71,
   "metadata": {},
   "outputs": [
    {
     "name": "stdout",
     "output_type": "stream",
     "text": [
      "Wall time: 59.7 s\n"
     ]
    }
   ],
   "source": [
    "%%time\n",
    "predicted_1_lemma, _, _ = predict(X1_train_lemma, y1_train, X_test_lemma)"
   ]
  },
  {
   "cell_type": "code",
   "execution_count": 72,
   "metadata": {},
   "outputs": [
    {
     "name": "stdout",
     "output_type": "stream",
     "text": [
      "0.4\n"
     ]
    }
   ],
   "source": [
    "acc_1_lemma = accuracy(y_test, predicted_1_lemma)\n",
    "print(acc_1_lemma)"
   ]
  },
  {
   "cell_type": "markdown",
   "metadata": {},
   "source": [
    "## --------------"
   ]
  },
  {
   "cell_type": "markdown",
   "metadata": {},
   "source": [
    "### X2, y2; 3 classes; no lemmatization"
   ]
  },
  {
   "cell_type": "code",
   "execution_count": 73,
   "metadata": {},
   "outputs": [
    {
     "name": "stdout",
     "output_type": "stream",
     "text": [
      "Wall time: 2min 19s\n"
     ]
    }
   ],
   "source": [
    "%%time\n",
    "predicted_2, _, _ = predict(X2_train, y2_train, X_test)"
   ]
  },
  {
   "cell_type": "code",
   "execution_count": 109,
   "metadata": {},
   "outputs": [
    {
     "name": "stdout",
     "output_type": "stream",
     "text": [
      "0.4666666666666667\n"
     ]
    }
   ],
   "source": [
    "acc_2 = accuracy(y_test, predicted_2)\n",
    "accus.append(round(acc_2, 2))\n",
    "print(acc_2)"
   ]
  },
  {
   "cell_type": "markdown",
   "metadata": {},
   "source": [
    "### X2, y2; 2 classes; no lemmatization"
   ]
  },
  {
   "cell_type": "code",
   "execution_count": 75,
   "metadata": {},
   "outputs": [
    {
     "name": "stdout",
     "output_type": "stream",
     "text": [
      "Wall time: 1min 23s\n"
     ]
    }
   ],
   "source": [
    "%%time\n",
    "predicted_2_new, _, _ = predict(X2_train, y2_train_new, X_test)"
   ]
  },
  {
   "cell_type": "code",
   "execution_count": 110,
   "metadata": {},
   "outputs": [
    {
     "name": "stdout",
     "output_type": "stream",
     "text": [
      "0.5666666666666667\n"
     ]
    }
   ],
   "source": [
    "acc_2_new = accuracy(y_test_new, predicted_2_new)\n",
    "accus_new.append(round(acc_2_new, 2))\n",
    "print(acc_2_new)"
   ]
  },
  {
   "cell_type": "markdown",
   "metadata": {},
   "source": [
    "### X2, y2; 3 classes; with lemmatization"
   ]
  },
  {
   "cell_type": "code",
   "execution_count": 77,
   "metadata": {},
   "outputs": [
    {
     "name": "stdout",
     "output_type": "stream",
     "text": [
      "Wall time: 56.7 s\n"
     ]
    }
   ],
   "source": [
    "%%time\n",
    "predicted_2_lemma, _, _ = predict(X2_train_lemma, y2_train, X_test_lemma)"
   ]
  },
  {
   "cell_type": "code",
   "execution_count": 78,
   "metadata": {},
   "outputs": [
    {
     "name": "stdout",
     "output_type": "stream",
     "text": [
      "0.48333333333333334\n"
     ]
    }
   ],
   "source": [
    "acc_2_lemma = accuracy(y_test, predicted_2_lemma)\n",
    "print(acc_2_lemma)"
   ]
  },
  {
   "cell_type": "markdown",
   "metadata": {},
   "source": [
    "## --------------"
   ]
  },
  {
   "cell_type": "markdown",
   "metadata": {},
   "source": [
    "### X3, y3; 3 classes; no lemmatization"
   ]
  },
  {
   "cell_type": "code",
   "execution_count": 79,
   "metadata": {},
   "outputs": [
    {
     "name": "stdout",
     "output_type": "stream",
     "text": [
      "Wall time: 2min 18s\n"
     ]
    }
   ],
   "source": [
    "%%time\n",
    "predicted_3, _, _ = predict(X3_train, y3_train, X_test)"
   ]
  },
  {
   "cell_type": "code",
   "execution_count": 111,
   "metadata": {},
   "outputs": [
    {
     "name": "stdout",
     "output_type": "stream",
     "text": [
      "0.4666666666666667\n"
     ]
    }
   ],
   "source": [
    "acc_3 = accuracy(y_test, predicted_3)\n",
    "accus.append(round(acc_3, 2))\n",
    "print(acc_3)"
   ]
  },
  {
   "cell_type": "markdown",
   "metadata": {},
   "source": [
    "### X3, y3; 2 classes; no lemmatization"
   ]
  },
  {
   "cell_type": "code",
   "execution_count": 81,
   "metadata": {},
   "outputs": [
    {
     "name": "stdout",
     "output_type": "stream",
     "text": [
      "Wall time: 1min 32s\n"
     ]
    }
   ],
   "source": [
    "%%time\n",
    "predicted_3_new, _, _ = predict(X3_train, y3_train_new, X_test)"
   ]
  },
  {
   "cell_type": "code",
   "execution_count": 112,
   "metadata": {},
   "outputs": [
    {
     "name": "stdout",
     "output_type": "stream",
     "text": [
      "0.6\n"
     ]
    }
   ],
   "source": [
    "acc_3_new = accuracy(y_test_new, predicted_3_new)\n",
    "accus_new.append(round(acc_3_new, 2))\n",
    "print(acc_3_new)"
   ]
  },
  {
   "cell_type": "markdown",
   "metadata": {},
   "source": [
    "### X2, y3; 3 classes; with lemmatization"
   ]
  },
  {
   "cell_type": "code",
   "execution_count": 83,
   "metadata": {},
   "outputs": [
    {
     "name": "stdout",
     "output_type": "stream",
     "text": [
      "Wall time: 1min 19s\n"
     ]
    }
   ],
   "source": [
    "%%time\n",
    "predicted_3_lemma, _, _ = predict(X3_train_lemma, y3_train, X_test_lemma)"
   ]
  },
  {
   "cell_type": "code",
   "execution_count": 84,
   "metadata": {},
   "outputs": [
    {
     "name": "stdout",
     "output_type": "stream",
     "text": [
      "0.43333333333333335\n"
     ]
    }
   ],
   "source": [
    "acc_3_lemma = accuracy(y_test, predicted_3_lemma)\n",
    "print(acc_3_lemma)"
   ]
  },
  {
   "cell_type": "markdown",
   "metadata": {},
   "source": [
    "## ---------------"
   ]
  },
  {
   "cell_type": "markdown",
   "metadata": {},
   "source": [
    "## Whole dataset"
   ]
  },
  {
   "cell_type": "markdown",
   "metadata": {},
   "source": [
    "### no lematization"
   ]
  },
  {
   "cell_type": "code",
   "execution_count": 85,
   "metadata": {},
   "outputs": [
    {
     "name": "stdout",
     "output_type": "stream",
     "text": [
      "Wall time: 13min 27s\n"
     ]
    }
   ],
   "source": [
    "%%time\n",
    "predicted, data, cv = predict(X, y, X)"
   ]
  },
  {
   "cell_type": "code",
   "execution_count": 86,
   "metadata": {},
   "outputs": [
    {
     "data": {
      "text/plain": [
       "0.995"
      ]
     },
     "execution_count": 86,
     "metadata": {},
     "output_type": "execute_result"
    }
   ],
   "source": [
    "accuracy = accuracy(y, predicted)\n",
    "accuracy"
   ]
  },
  {
   "cell_type": "code",
   "execution_count": 87,
   "metadata": {},
   "outputs": [
    {
     "data": {
      "image/png": "[encoded data removed]",
      "text/plain": [
       "<Figure size 1280x800 with 1 Axes>"
      ]
     },
     "metadata": {
      "needs_background": "light"
     },
     "output_type": "display_data"
    }
   ],
   "source": [
    "plot_hist(data, y, cv, -1)"
   ]
  },
  {
   "cell_type": "code",
   "execution_count": 88,
   "metadata": {},
   "outputs": [
    {
     "data": {
      "image/png": "[encoded data removed]",
      "text/plain": [
       "<Figure size 1280x800 with 1 Axes>"
      ]
     },
     "metadata": {
      "needs_background": "light"
     },
     "output_type": "display_data"
    }
   ],
   "source": [
    "plot_hist(data, y, cv, 0)"
   ]
  },
  {
   "cell_type": "code",
   "execution_count": 89,
   "metadata": {},
   "outputs": [
    {
     "data": {
      "image/png": "[encoded data removed]",
      "text/plain": [
       "<Figure size 1280x800 with 1 Axes>"
      ]
     },
     "metadata": {
      "needs_background": "light"
     },
     "output_type": "display_data"
    }
   ],
   "source": [
    "plot_hist(data, y, cv, 1)"
   ]
  },
  {
   "cell_type": "markdown",
   "metadata": {},
   "source": [
    "### with lemmatization"
   ]
  },
  {
   "cell_type": "code",
   "execution_count": 90,
   "metadata": {},
   "outputs": [
    {
     "name": "stdout",
     "output_type": "stream",
     "text": [
      "Wall time: 5min 17s\n"
     ]
    }
   ],
   "source": [
    "%%time\n",
    "predicted_lemma, data, cv = predict(X_lemma, y, X_lemma)"
   ]
  },
  {
   "cell_type": "code",
   "execution_count": 93,
   "metadata": {},
   "outputs": [
    {
     "data": {
      "text/plain": [
       "0.975"
      ]
     },
     "execution_count": 93,
     "metadata": {},
     "output_type": "execute_result"
    }
   ],
   "source": [
    "accuracy = accuracy(y, predicted_lemma)\n",
    "accuracy"
   ]
  },
  {
   "cell_type": "code",
   "execution_count": 94,
   "metadata": {},
   "outputs": [
    {
     "data": {
      "image/png": "[encoded data removed]",
      "text/plain": [
       "<Figure size 1280x800 with 1 Axes>"
      ]
     },
     "metadata": {
      "needs_background": "light"
     },
     "output_type": "display_data"
    }
   ],
   "source": [
    "plot_hist(data, y, cv, -1)"
   ]
  },
  {
   "cell_type": "code",
   "execution_count": 95,
   "metadata": {
    "scrolled": false
   },
   "outputs": [
    {
     "data": {
      "image/png": "[encoded data removed]",
      "text/plain": [
       "<Figure size 1280x800 with 1 Axes>"
      ]
     },
     "metadata": {
      "needs_background": "light"
     },
     "output_type": "display_data"
    }
   ],
   "source": [
    "plot_hist(data, y, cv, 0)"
   ]
  },
  {
   "cell_type": "code",
   "execution_count": 96,
   "metadata": {},
   "outputs": [
    {
     "data": {
      "image/png": "[encoded data removed]",
      "text/plain": [
       "<Figure size 1280x800 with 1 Axes>"
      ]
     },
     "metadata": {
      "needs_background": "light"
     },
     "output_type": "display_data"
    }
   ],
   "source": [
    "plot_hist(data, y, cv, 1)"
   ]
  },
  {
   "cell_type": "markdown",
   "metadata": {},
   "source": [
    "## Plot of accuracy"
   ]
  },
  {
   "cell_type": "code",
   "execution_count": 113,
   "metadata": {},
   "outputs": [],
   "source": [
    "xs = [100, 120, 140]"
   ]
  },
  {
   "cell_type": "code",
   "execution_count": 114,
   "metadata": {},
   "outputs": [
    {
     "data": {
      "image/png": "[encoded data removed]",
      "text/plain": [
       "<Figure size 432x288 with 1 Axes>"
      ]
     },
     "metadata": {
      "needs_background": "light"
     },
     "output_type": "display_data"
    }
   ],
   "source": [
    "fig = plt.figure()\n",
    "ax = fig.add_subplot(111)\n",
    "\n",
    "plt.plot(range(len(xs)), accus, 'ro', markersize=20)\n",
    "plt.xticks(range(len(xs)), xs)\n",
    "plt.ylim(0, 1)\n",
    "plt.xlabel('Size of dataset')\n",
    "plt.ylabel('Accuracy')\n",
    "plt.title('Accuracy depending on the size of dataset (3 classes))')\n",
    "\n",
    "for i, v in enumerate(accus):\n",
    "    ax.text(i, v+0.1, v, ha=\"center\")\n",
    "plt.show()"
   ]
  },
  {
   "cell_type": "code",
   "execution_count": 115,
   "metadata": {
    "scrolled": true
   },
   "outputs": [
    {
     "data": {
      "image/png": "[encoded data removed]",
      "text/plain": [
       "<Figure size 432x288 with 1 Axes>"
      ]
     },
     "metadata": {
      "needs_background": "light"
     },
     "output_type": "display_data"
    }
   ],
   "source": [
    "fig = plt.figure()\n",
    "ax = fig.add_subplot(111)\n",
    "\n",
    "plt.plot(range(len(xs)), accus_new, 'bo', markersize=20)\n",
    "plt.xticks(range(len(xs)), xs)\n",
    "plt.ylim(0, 1)\n",
    "plt.xlabel('Size of dataset')\n",
    "plt.ylabel('Accuracy')\n",
    "plt.title('Accuracy depending on the size of dataset (2 classes))')\n",
    "\n",
    "for i, v in enumerate(accus_new):\n",
    "    ax.text(i, v+0.1, v, ha=\"center\")\n",
    "plt.show()"
   ]
  }
 ],
 "metadata": {
  "kernelspec": {
   "display_name": "Python 3",
   "language": "python",
   "name": "python3"
  },
  "language_info": {
   "codemirror_mode": {
    "name": "ipython",
    "version": 3
   },
   "file_extension": ".py",
   "mimetype": "text/x-python",
   "name": "python",
   "nbconvert_exporter": "python",
   "pygments_lexer": "ipython3",
   "version": "3.7.2"
  }
 },
 "nbformat": 4,
 "nbformat_minor": 2
}
